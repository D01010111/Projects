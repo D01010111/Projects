{
 "cells": [
  {
   "cell_type": "markdown",
   "metadata": {},
   "source": [
    "# Value at Risk Dashboard\n",
    "\n",
    "First we are going to do simple VaR calculations:"
   ]
  },
  {
   "cell_type": "code",
   "execution_count": 24,
   "metadata": {},
   "outputs": [],
   "source": [
    "import pandas as pd\n",
    "import numpy as np\n",
    "#import matplotlib as plt\n",
    "import matplotlib.pyplot as pyplot\n",
    "import matplotlib.mlab as mlab\n",
    "from yahoofinancials import YahooFinancials\n",
    "import seaborn as sns\n",
    "import scipy.optimize as sco\n",
    "\n",
    "tickers = ['APHA.TO','FDN', 'PHR.TO','BTI','WEED.TO','XAR'] #Insert tickers of assets you wish to simulate\n",
    "\n",
    "assetlist = YahooFinancials(tickers)\n",
    "daily_prices = assetlist.get_historical_price_data('2018-01-01', '2020-04-22', 'daily') #Change dates as needed\n",
    "\n",
    "\n",
    "assets = {}\n",
    "for count, name in enumerate(tickers):\n",
    "    tdf = pd.DataFrame(daily_prices[tickers[count]]['prices'])\n",
    "    assets.update({name:tdf})    "
   ]
  },
  {
   "cell_type": "code",
   "execution_count": 3,
   "metadata": {},
   "outputs": [],
   "source": [
    "#Get just close data for potfolio\n",
    "port_value = {}\n",
    "\n",
    "for name in assets.keys():\n",
    "    port_value.update({name:assets[name]['close'].pct_change()})\n",
    "    #port_value.update({name:assets[name]['close']})\n",
    "\n",
    "port_value = pd.DataFrame(port_value)"
   ]
  },
  {
   "cell_type": "code",
   "execution_count": 4,
   "metadata": {},
   "outputs": [
    {
     "name": "stdout",
     "output_type": "stream",
     "text": [
      "Number of weights do not match number of assets\n"
     ]
    }
   ],
   "source": [
    "#Weights\n",
    "w = [0.005537, 0.640829, 0.221013, 0.019449, 0.102115, 0.011057]\n",
    "\n",
    "if len(w) != len(port_value.columns.values)-1:\n",
    "    print('Number of weights do not match number of assets')\n",
    "else:\n",
    "    pass"
   ]
  },
  {
   "cell_type": "code",
   "execution_count": 5,
   "metadata": {},
   "outputs": [],
   "source": [
    "wport_value = port_value[:] * w\n",
    "wport_value['total'] = wport_value.sum(axis=1)\n",
    "port_value['Portfolio Returns'] = wport_value['total']*100"
   ]
  },
  {
   "cell_type": "code",
   "execution_count": 6,
   "metadata": {},
   "outputs": [],
   "source": [
    "port_value['date'] = assets[name]['formatted_date']\n",
    "port_value = port_value.set_index('date')"
   ]
  },
  {
   "cell_type": "code",
   "execution_count": 53,
   "metadata": {},
   "outputs": [
    {
     "name": "stdout",
     "output_type": "stream",
     "text": [
      "-1.4658001418211049 -2.1640796679285956 -3.809487482962332\n"
     ]
    },
    {
     "data": {
      "image/png": "[encoded data removed]",
      "text/plain": [
       "<Figure size 432x288 with 1 Axes>"
      ]
     },
     "metadata": {
      "needs_background": "light"
     },
     "output_type": "display_data"
    }
   ],
   "source": [
    "port_value['Portfolio Returns'].plot(kind='hist', bins=40)\n",
    "\n",
    "VaR90 = port_value['Portfolio Returns'].quantile(0.1)\n",
    "VaR95 = port_value['Portfolio Returns'].quantile(0.05)\n",
    "VaR99 = port_value['Portfolio Returns'].quantile(0.01)\n",
    "print(VaR90,VaR95,VaR99)"
   ]
  },
  {
   "cell_type": "markdown",
   "metadata": {},
   "source": [
    "# Variance Value at Risk\n",
    "\n",
    "The below is plotting VaR using the variance method."
   ]
  },
  {
   "cell_type": "code",
   "execution_count": 37,
   "metadata": {},
   "outputs": [
    {
     "data": {
      "image/png": "[encoded data removed]",
      "text/plain": [
       "<Figure size 432x288 with 1 Axes>"
      ]
     },
     "metadata": {
      "needs_background": "light"
     },
     "output_type": "display_data"
    },
    {
     "name": "stdout",
     "output_type": "stream",
     "text": [
      "-1.7944590288483138 -2.3127938258492007 -2.3127938258492007\n"
     ]
    }
   ],
   "source": [
    "import numpy as np\n",
    "from scipy.stats import norm\n",
    "import matplotlib.pyplot as pyplot\n",
    "\n",
    "\n",
    "\n",
    "avg = np.mean(port_value['Portfolio Returns'])\n",
    "sdev = np.std(port_value['Portfolio Returns'])\n",
    "\n",
    "port_value['Portfolio Returns'].hist(bins=40, normed=True, histtype='stepfilled', alpha=0.5)\n",
    "x = np.linspace(avg - 3*sdev, avg + 3*sdev,100)\n",
    "pyplot.plot(x, norm.pdf(x, avg, sdev))\n",
    "pyplot.show()\n",
    "\n",
    "VaR90 = norm.ppf(1-0.9, avg, sdev)\n",
    "VaR95 = norm.ppf(1-0.95, avg, sdev)\n",
    "VaR99 = norm.ppf(1-0.95, avg, sdev)\n",
    "\n",
    "print(VaR90,VaR95,VaR99)"
   ]
  },
  {
   "cell_type": "code",
   "execution_count": null,
   "metadata": {},
   "outputs": [],
   "source": []
  },
  {
   "cell_type": "code",
   "execution_count": null,
   "metadata": {},
   "outputs": [],
   "source": []
  }
 ],
 "metadata": {
  "kernelspec": {
   "display_name": "Python 3",
   "language": "python",
   "name": "python3"
  },
  "language_info": {
   "codemirror_mode": {
    "name": "ipython",
    "version": 3
   },
   "file_extension": ".py",
   "mimetype": "text/x-python",
   "name": "python",
   "nbconvert_exporter": "python",
   "pygments_lexer": "ipython3",
   "version": "3.7.4"
  }
 },
 "nbformat": 4,
 "nbformat_minor": 2
}
